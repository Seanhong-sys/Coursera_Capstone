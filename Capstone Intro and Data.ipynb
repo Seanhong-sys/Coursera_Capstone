{
 "cells": [
  {
   "cell_type": "markdown",
   "metadata": {},
   "source": [
    "## Introduction: Business Problem"
   ]
  },
  {
   "cell_type": "markdown",
   "metadata": {},
   "source": [
    "In the capstone project, I will try to find what establishments are closest to bank locations. Hypothetically, banks would be found in areas where they can provide banking services to a good number of people enough to stay profitable. Factors for choosing a location would depend on each individual bank company's ability to scale, their number of clients, and even the presence of other banks, in what is known as game theory in economics. Less-known, however, is the connection of the banks branches' physical location with those of nearby establishments. Do these establishments tend cluster in the retail industry? In coffee or other refreshment services? How about other banks themselves? Are they located indoors or outdoors? This notebook will examine such questions.\n",
    "\n",
    "I have chosen the city of Edmonton in the Canadian province of Alberta as a case study. Edmonton is Canada's sixth largest city with a population of over 1.3 million. Its urban landscape is distinctly suburban and has a decent-sized downtown. Edmonton is home to a fairly robust banking industry and houses the Canadian Western Bank, the only publicly traded Schedule I chartered bank headquarters west of Toronto. \n",
    "\n",
    "We will examine specifically what the most common venues situated near banks are, as well as their corresponding venue category. The primary stakeholders of this capstone project are multitude: it will benefit city officials, urban planners, and even banks by providing useful insight into the businesses that tend to cluster around banks.\n"
   ]
  },
  {
   "cell_type": "markdown",
   "metadata": {},
   "source": [
    "## Data"
   ]
  },
  {
   "cell_type": "markdown",
   "metadata": {},
   "source": [
    "To retrieve the banks' addresses in Edmonton, I will refer to BankChart.ca for information from the site:\n",
    "https://bankchart.ca/catalogue/branches/3. Two variables are of particular interest:\n",
    "* Bank name\n",
    "* Addresses of the bank branches\n",
    "\n",
    "Once the relevant data is stored in a dataframe, the following will be performed:\n",
    "* The approximate locations of each branch's address will be retrieved using **Google Maps API reverse geocoding**.\n",
    "* Information on the venue category of the establishments will be collected using  **Foursquare API**.\n",
    "\n",
    "This should provide the necessary data ripe for answering our business problem, upon which the results will be reviewed for drawing useful conclusions."
   ]
  },
  {
   "cell_type": "code",
   "execution_count": null,
   "metadata": {},
   "outputs": [],
   "source": []
  }
 ],
 "metadata": {
  "kernelspec": {
   "display_name": "Python 3",
   "language": "python",
   "name": "python3"
  },
  "language_info": {
   "codemirror_mode": {
    "name": "ipython",
    "version": 3
   },
   "file_extension": ".py",
   "mimetype": "text/x-python",
   "name": "python",
   "nbconvert_exporter": "python",
   "pygments_lexer": "ipython3",
   "version": "3.7.4"
  }
 },
 "nbformat": 4,
 "nbformat_minor": 2
}
